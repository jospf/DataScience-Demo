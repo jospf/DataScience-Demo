{
  "nbformat": 4,
  "nbformat_minor": 0,
  "metadata": {
    "colab": {
      "provenance": [],
      "toc_visible": true,
      "authorship_tag": "ABX9TyMCZDtIolQIJdGNJkgNgKTZ",
      "include_colab_link": true
    },
    "kernelspec": {
      "name": "python3",
      "display_name": "Python 3"
    },
    "language_info": {
      "name": "python"
    }
  },
  "cells": [
    {
      "cell_type": "markdown",
      "metadata": {
        "id": "view-in-github",
        "colab_type": "text"
      },
      "source": [
        "<a href=\"https://colab.research.google.com/github/jospf/DataScience-Demo/blob/main/data_scince_notebook.ipynb\" target=\"_parent\"><img src=\"https://colab.research.google.com/assets/colab-badge.svg\" alt=\"Open In Colab\"/></a>"
      ]
    },
    {
      "cell_type": "markdown",
      "source": [
        "## Ingest"
      ],
      "metadata": {
        "id": "tTaUWVdNVHnj"
      }
    },
    {
      "cell_type": "code",
      "execution_count": null,
      "metadata": {
        "id": "FrRhSBEAU-EQ"
      },
      "outputs": [],
      "source": []
    },
    {
      "cell_type": "markdown",
      "source": [
        "## EDA"
      ],
      "metadata": {
        "id": "pysJ01ykVRaa"
      }
    },
    {
      "cell_type": "code",
      "source": [],
      "metadata": {
        "id": "fso-CfbMVTKj"
      },
      "execution_count": null,
      "outputs": []
    },
    {
      "cell_type": "markdown",
      "source": [
        "## Modeling"
      ],
      "metadata": {
        "id": "yrXJkLghVTm6"
      }
    },
    {
      "cell_type": "code",
      "source": [],
      "metadata": {
        "id": "G1mRo2dFVUkn"
      },
      "execution_count": null,
      "outputs": []
    },
    {
      "cell_type": "markdown",
      "source": [
        "## Conclusion"
      ],
      "metadata": {
        "id": "H6wwhnTcVVs1"
      }
    },
    {
      "cell_type": "code",
      "source": [],
      "metadata": {
        "id": "15bPoqYWVWyH"
      },
      "execution_count": null,
      "outputs": []
    }
  ]
}